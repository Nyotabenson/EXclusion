{
 "cells": [
  {
   "cell_type": "code",
   "execution_count": 1,
   "id": "c5f3704c-214e-4f70-818a-08534b034c26",
   "metadata": {},
   "outputs": [],
   "source": [
    "import pandas as pd"
   ]
  },
  {
   "cell_type": "code",
   "execution_count": null,
   "id": "a547a2e5-46f6-4f72-bfa3-965d3d528b59",
   "metadata": {},
   "outputs": [],
   "source": []
  },
  {
   "cell_type": "code",
   "execution_count": null,
   "id": "fd03a1f4-075d-437b-8cca-5567ecf2a52d",
   "metadata": {},
   "outputs": [],
   "source": [
    "import pandas as pd\n",
    "\n",
    "# Sample DataFrame\n",
    "#df = pd.DataFrame({'column1': [1, 2, 2, 3, 4], 'column2': [2, 4, 2, 5, 1]})\n",
    "\n",
    "# Select rows where value in column1 is not in column2\n",
    "filtered_df = df[~df['XKE1023240965'].isin(df['XKE1028180841'])]\n",
    "\n",
    "\n",
    "filtered_df = filtered_df.drop(filtered_df.columns[1:], axis=1)\n",
    "\n",
    "# Print the result\n",
    "print(filtered_df)\n"
   ]
  },
  {
   "cell_type": "code",
   "execution_count": null,
   "id": "9e4b6f8d-051c-438a-af0a-a615c4317233",
   "metadata": {},
   "outputs": [],
   "source": []
  },
  {
   "cell_type": "code",
   "execution_count": null,
   "id": "a5620678-a3eb-490c-b6b2-6699a937d428",
   "metadata": {},
   "outputs": [],
   "source": []
  }
 ],
 "metadata": {
  "kernelspec": {
   "display_name": "Python 3 (ipykernel)",
   "language": "python",
   "name": "python3"
  },
  "language_info": {
   "codemirror_mode": {
    "name": "ipython",
    "version": 3
   },
   "file_extension": ".py",
   "mimetype": "text/x-python",
   "name": "python",
   "nbconvert_exporter": "python",
   "pygments_lexer": "ipython3",
   "version": "3.12.1"
  }
 },
 "nbformat": 4,
 "nbformat_minor": 5
}
