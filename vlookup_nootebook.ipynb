{
 "cells": [
  {
   "cell_type": "code",
   "execution_count": 3,
   "id": "c5f3704c-214e-4f70-818a-08534b034c26",
   "metadata": {},
   "outputs": [],
   "source": [
    "import pandas as pd"
   ]
  },
  {
   "cell_type": "code",
   "execution_count": 29,
   "id": "a547a2e5-46f6-4f72-bfa3-965d3d528b59",
   "metadata": {},
   "outputs": [],
   "source": [
    "df = pd.read_excel(\"February.xlsx\", sheet_name='12th Feb' , header=None)"
   ]
  },
  {
   "cell_type": "code",
   "execution_count": 30,
   "id": "c182a2c1-5d6c-4ea6-a10d-eb4fbe5171b4",
   "metadata": {},
   "outputs": [
    {
     "data": {
      "text/html": [
       "<div>\n",
       "<style scoped>\n",
       "    .dataframe tbody tr th:only-of-type {\n",
       "        vertical-align: middle;\n",
       "    }\n",
       "\n",
       "    .dataframe tbody tr th {\n",
       "        vertical-align: top;\n",
       "    }\n",
       "\n",
       "    .dataframe thead th {\n",
       "        text-align: right;\n",
       "    }\n",
       "</style>\n",
       "<table border=\"1\" class=\"dataframe\">\n",
       "  <thead>\n",
       "    <tr style=\"text-align: right;\">\n",
       "      <th></th>\n",
       "      <th>0</th>\n",
       "      <th>1</th>\n",
       "    </tr>\n",
       "  </thead>\n",
       "  <tbody>\n",
       "    <tr>\n",
       "      <th>0</th>\n",
       "      <td>XKE1023240965</td>\n",
       "      <td>XKE1028180841</td>\n",
       "    </tr>\n",
       "    <tr>\n",
       "      <th>1</th>\n",
       "      <td>XKE1029840188</td>\n",
       "      <td>XKE1023777308</td>\n",
       "    </tr>\n",
       "    <tr>\n",
       "      <th>2</th>\n",
       "      <td>XKE1028789892</td>\n",
       "      <td>KE164993127</td>\n",
       "    </tr>\n",
       "    <tr>\n",
       "      <th>3</th>\n",
       "      <td>XKE1022647964</td>\n",
       "      <td>KE859982322</td>\n",
       "    </tr>\n",
       "    <tr>\n",
       "      <th>4</th>\n",
       "      <td>KE213793225</td>\n",
       "      <td>KE735521396</td>\n",
       "    </tr>\n",
       "    <tr>\n",
       "      <th>...</th>\n",
       "      <td>...</td>\n",
       "      <td>...</td>\n",
       "    </tr>\n",
       "    <tr>\n",
       "      <th>516</th>\n",
       "      <td>KE651377934</td>\n",
       "      <td>NaN</td>\n",
       "    </tr>\n",
       "    <tr>\n",
       "      <th>517</th>\n",
       "      <td>XKE1028677021</td>\n",
       "      <td>NaN</td>\n",
       "    </tr>\n",
       "    <tr>\n",
       "      <th>518</th>\n",
       "      <td>KE092310776</td>\n",
       "      <td>NaN</td>\n",
       "    </tr>\n",
       "    <tr>\n",
       "      <th>519</th>\n",
       "      <td>XKE1022101113</td>\n",
       "      <td>NaN</td>\n",
       "    </tr>\n",
       "    <tr>\n",
       "      <th>520</th>\n",
       "      <td>KE917744500</td>\n",
       "      <td>NaN</td>\n",
       "    </tr>\n",
       "  </tbody>\n",
       "</table>\n",
       "<p>521 rows × 2 columns</p>\n",
       "</div>"
      ],
      "text/plain": [
       "                 0              1\n",
       "0    XKE1023240965  XKE1028180841\n",
       "1    XKE1029840188  XKE1023777308\n",
       "2    XKE1028789892    KE164993127\n",
       "3    XKE1022647964    KE859982322\n",
       "4      KE213793225    KE735521396\n",
       "..             ...            ...\n",
       "516    KE651377934            NaN\n",
       "517  XKE1028677021            NaN\n",
       "518    KE092310776            NaN\n",
       "519  XKE1022101113            NaN\n",
       "520    KE917744500            NaN\n",
       "\n",
       "[521 rows x 2 columns]"
      ]
     },
     "execution_count": 30,
     "metadata": {},
     "output_type": "execute_result"
    }
   ],
   "source": [
    "df"
   ]
  },
  {
   "cell_type": "code",
   "execution_count": 31,
   "id": "f7bf9662-dda3-4e90-965e-e23dbe454b60",
   "metadata": {},
   "outputs": [
    {
     "data": {
      "text/plain": [
       "Index([0, 1], dtype='int64')"
      ]
     },
     "execution_count": 31,
     "metadata": {},
     "output_type": "execute_result"
    }
   ],
   "source": [
    "df.columns"
   ]
  },
  {
   "cell_type": "code",
   "execution_count": 32,
   "id": "04e95325-36f4-404e-8448-64e9ec549c5e",
   "metadata": {},
   "outputs": [
    {
     "data": {
      "text/plain": [
       "0      XKE1023240965\n",
       "1      XKE1029840188\n",
       "2      XKE1028789892\n",
       "3      XKE1022647964\n",
       "4        KE213793225\n",
       "           ...      \n",
       "516      KE651377934\n",
       "517    XKE1028677021\n",
       "518      KE092310776\n",
       "519    XKE1022101113\n",
       "520      KE917744500\n",
       "Name: 0, Length: 521, dtype: object"
      ]
     },
     "execution_count": 32,
     "metadata": {},
     "output_type": "execute_result"
    }
   ],
   "source": [
    "df[0]"
   ]
  },
  {
   "cell_type": "code",
   "execution_count": null,
   "id": "6b95d2ad-da54-40e9-ab9f-1bd273e57d90",
   "metadata": {},
   "outputs": [],
   "source": []
  },
  {
   "cell_type": "code",
   "execution_count": null,
   "id": "73410026-1cb1-4618-ace8-ba640252f59c",
   "metadata": {},
   "outputs": [],
   "source": []
  },
  {
   "cell_type": "code",
   "execution_count": null,
   "id": "82c1b7b8-0788-4d43-9a4a-7877aa4a129f",
   "metadata": {},
   "outputs": [],
   "source": []
  },
  {
   "cell_type": "code",
   "execution_count": 33,
   "id": "fd03a1f4-075d-437b-8cca-5567ecf2a52d",
   "metadata": {},
   "outputs": [
    {
     "name": "stdout",
     "output_type": "stream",
     "text": [
      "                 0\n",
      "27   XKE1024131278\n",
      "32     KE541802145\n",
      "33     KE798966417\n",
      "37     KE201592650\n",
      "40     KE779197493\n",
      "..             ...\n",
      "516    KE651377934\n",
      "517  XKE1028677021\n",
      "518    KE092310776\n",
      "519  XKE1022101113\n",
      "520    KE917744500\n",
      "\n",
      "[460 rows x 1 columns]\n"
     ]
    }
   ],
   "source": [
    "import pandas as pd\n",
    "\n",
    "# Select rows where value in column1 is not in column2\n",
    "filtered_df = df[~df[0].isin(df[1])]\n",
    "\n",
    "\n",
    "filtered_df = filtered_df.drop(filtered_df.columns[1:], axis=1)\n",
    "\n",
    "# Print the result\n",
    "print(filtered_df)\n"
   ]
  },
  {
   "cell_type": "code",
   "execution_count": 35,
   "id": "9e4b6f8d-051c-438a-af0a-a615c4317233",
   "metadata": {},
   "outputs": [],
   "source": [
    "filtered_df.to_excel(\"new.xlsx\", index=False, header=None)"
   ]
  },
  {
   "cell_type": "code",
   "execution_count": null,
   "id": "a5620678-a3eb-490c-b6b2-6699a937d428",
   "metadata": {},
   "outputs": [],
   "source": []
  }
 ],
 "metadata": {
  "kernelspec": {
   "display_name": "Python 3 (ipykernel)",
   "language": "python",
   "name": "python3"
  },
  "language_info": {
   "codemirror_mode": {
    "name": "ipython",
    "version": 3
   },
   "file_extension": ".py",
   "mimetype": "text/x-python",
   "name": "python",
   "nbconvert_exporter": "python",
   "pygments_lexer": "ipython3",
   "version": "3.12.1"
  }
 },
 "nbformat": 4,
 "nbformat_minor": 5
}
